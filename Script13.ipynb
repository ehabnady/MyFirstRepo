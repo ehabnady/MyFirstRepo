{
  "nbformat": 4,
  "nbformat_minor": 0,
  "metadata": {
    "colab": {
      "name": "Script13.ipynb",
      "provenance": [],
      "collapsed_sections": [],
      "authorship_tag": "ABX9TyPSfux3jItyu1Y5/dybgMpV",
      "include_colab_link": true
    },
    "kernelspec": {
      "name": "python3",
      "display_name": "Python 3"
    }
  },
  "cells": [
    {
      "cell_type": "markdown",
      "metadata": {
        "id": "view-in-github",
        "colab_type": "text"
      },
      "source": [
        "<a href=\"https://colab.research.google.com/github/ehabnady/MyFirstRepo/blob/MyNewBranch/Script13.ipynb\" target=\"_parent\"><img src=\"https://colab.research.google.com/assets/colab-badge.svg\" alt=\"Open In Colab\"/></a>"
      ]
    },
    {
      "cell_type": "code",
      "metadata": {
        "id": "sT79WujCF7Gh",
        "colab": {
          "base_uri": "https://localhost:8080/"
        },
        "outputId": "0d92af9a-93c8-4333-b526-13402bab0bfe"
      },
      "source": [
        "class Person:\r\n",
        "  def __init__(self, name, age):\r\n",
        "    self.name = name\r\n",
        "    self.age = age\r\n",
        "\r\n",
        "  def myfunc(self):\r\n",
        "    print(\"Hello my name is \" + self.name)\r\n",
        "  \r\n",
        "  def personMethod1(self):\r\n",
        "    print(\"Person Method1\")\r\n",
        "\r\n",
        "p1 = Person(\"Ehab Nady\", 44)\r\n",
        "p2 = Person(\"Mina Ehab\", 11)\r\n",
        "p1.myfunc()\r\n",
        "\r\n",
        "class Student(Person):\r\n",
        "  def __init__(self, p3, p4):\r\n",
        "    self.p3 = p3\r\n",
        "    self.p4 = p4\r\n",
        "  \r\n",
        "  def studentMethod1(self):\r\n",
        "    print(\"Student Method1\")\r\n",
        "\r\n",
        "student1 = Student(12, \"Mina - Kiro\")\r\n",
        "# print(\"student1.p3: \", student1.p3)\r\n",
        "# print(\"student1.p4: \", student1.p4)\r\n",
        "p2.personMethod1()\r\n",
        "student1.personMethod1()\r\n",
        "student1.studentMethod1()"
      ],
      "execution_count": 120,
      "outputs": [
        {
          "output_type": "stream",
          "text": [
            "Hello my name is Ehab Nady\n",
            "Person Method1\n",
            "Person Method1\n",
            "Student Method1\n"
          ],
          "name": "stdout"
        }
      ]
    },
    {
      "cell_type": "code",
      "metadata": {
        "id": "1DSW2wJ-bTor"
      },
      "source": [
        "#dir(Person)"
      ],
      "execution_count": null,
      "outputs": []
    },
    {
      "cell_type": "code",
      "metadata": {
        "id": "VDTuvUEDZ7qy"
      },
      "source": [
        "class Class1:\r\n",
        "  private1 = 0; private2 = \"Default\"; private3 = datetime.datetime.now()\r\n",
        "  def __init__(self, p1, p2):\r\n",
        "    private1 = p1; private2 = p2\r\n",
        "    private1 = p1 + 10; private2 = p2 + \" Thanks\"\r\n",
        "  \r\n",
        "c1 = Class1(100, \"Ehab\")    \r\n",
        "c2 = Class1(1,\"AA\")\r\n",
        "print(c1.private1); print(c1.private2); print(c1.private3.date())\r\n",
        "c1.private1 = 11; c1.private2 = \"BBB\"\r\n",
        "print(c1.private1); print(c1.private2); print(c1.private3.date())\r\n",
        "\r\n",
        "c2.SS = \"SSSS\"\r\n",
        "print(c2.SS)\r\n",
        "print(type(c2))"
      ],
      "execution_count": null,
      "outputs": []
    },
    {
      "cell_type": "code",
      "metadata": {
        "id": "zJYS3J16b-NW"
      },
      "source": [
        "import numpy as np\r\n",
        "print(np.version.full_version)\r\n",
        "\r\n",
        "arr = np.array([1,2,3,4,5])\r\n",
        "print(arr)\r\n",
        "\r\n",
        "tup = np.array((10,20,30,40,50))\r\n",
        "print(tup)\r\n",
        "\r\n",
        "singleDim = np.array(\"Single Dimension\")\r\n",
        "print(singleDim)\r\n",
        "\r\n",
        "twoDim = np.array([[1,2,3], [10,20,30]])\r\n",
        "threeDim = np.array([[[1,2,3,[10,20,30]], [100,200,300,[1000,2000,3000]]]])\r\n",
        "\r\n",
        "print(arr.ndim)\r\n",
        "print(tup.ndim)\r\n",
        "print(singleDim.ndim)\r\n",
        "print(twoDim.ndim)\r\n",
        "print(threeDim.ndim)"
      ],
      "execution_count": null,
      "outputs": []
    },
    {
      "cell_type": "code",
      "metadata": {
        "id": "6qw4wR9DrNZs"
      },
      "source": [
        "arr = np.array([1, 2, 3, 4], ndmin=5)\r\n",
        "print(arr)\r\n",
        "print('number of dimensions :', arr.ndim)"
      ],
      "execution_count": null,
      "outputs": []
    },
    {
      "cell_type": "code",
      "metadata": {
        "id": "BpSaJzTYtegX"
      },
      "source": [
        "##Iterator and classes / objects\r\n",
        "class iteratorClass():\r\n",
        "  def __init__(self):\r\n",
        "    pass\r\n",
        "  \r\n",
        "  def __iter__(self):\r\n",
        "    self.a = 1\r\n",
        "    return self\r\n",
        "\r\n",
        "  def __next__(self):\r\n",
        "    x = self.a\r\n",
        "    self.a += 1\r\n",
        "    return x\r\n",
        "\r\n",
        "iter1 = iter(iteratorClass())    \r\n",
        "for i in range(1,6):\r\n",
        "  print(next(iter1))"
      ],
      "execution_count": null,
      "outputs": []
    },
    {
      "cell_type": "code",
      "metadata": {
        "id": "PpTviczJy6MQ"
      },
      "source": [
        "import json as j\r\n",
        "\r\n",
        "person = {\r\n",
        "  \"name\": \"Ehab\",\r\n",
        "  \"age\": 44,\r\n",
        "  \"married\": True,\r\n",
        "  \"divorced\": False,\r\n",
        "  \"children\": (\"Mina\",\"Kirollos\"),\r\n",
        "  \"pets\": None,\r\n",
        "  \"cars\": [\r\n",
        "    {\"model\": \"Fiat 1977\", \"mpg\": 27.5},\r\n",
        "    {\"model\": \"Toktok\", \"mpg\": 24.1}\r\n",
        "  ]\r\n",
        "}\r\n",
        "\r\n",
        "print(json.dumps(person))\r\n",
        "\r\n",
        "x =  '{ \"name\":\"Ehab\", \"age\":44, \"city\":\"New York\"}'\r\n",
        "# parse x:\r\n",
        "y = json.loads(x)\r\n",
        "# the result is a Python dictionary:\r\n",
        "print(y[\"age\"])"
      ],
      "execution_count": null,
      "outputs": []
    },
    {
      "cell_type": "code",
      "metadata": {
        "id": "29zUP0_L2Dea"
      },
      "source": [
        "class Triangle:\r\n",
        "  def __init__(self,a,b,c):\r\n",
        "    self.a = a\r\n",
        "    self.b = b\r\n",
        "    self.c = c\r\n",
        "\r\n",
        "  def getParameter(self):\r\n",
        "    return self.a + self.b + self.c\r\n",
        "\r\n",
        "t1 = Triangle(3,4,5)\r\n",
        "print(t1.a)\r\n",
        "print(t1.getParameter())"
      ],
      "execution_count": null,
      "outputs": []
    },
    {
      "cell_type": "code",
      "metadata": {
        "id": "1x7K1Qt328cK"
      },
      "source": [
        "import matplotlib.pyplot as plt\r\n",
        "%matplotlib inline\r\n",
        "\r\n",
        "class Circle:\r\n",
        "  def __init__(self,radius,color):\r\n",
        "    self.radius = radius\r\n",
        "    self.color = color\r\n",
        "  \r\n",
        "  def add_radius(self, r):\r\n",
        "    self.radius = self.radius + r\r\n",
        "    return(self.radius)\r\n",
        "\r\n",
        "  def drawCircle(self):\r\n",
        "    plt.gca().add_patch(plt.Circle((0,0), radius=self.radius, fc=self.color))\r\n",
        "    plt.axis('scaled')\r\n",
        "    plt.show()\r\n",
        "\r\n",
        "c1 = Circle(20,\"red\")\r\n",
        "c1.drawCircle()\r\n",
        "\r\n",
        "c2 = Circle(30,\"blue\")\r\n",
        "c2.add_radius(40)\r\n",
        "c2.drawCircle()\r\n",
        "\r\n",
        "c3 = Circle(5, \"blue\")\r\n",
        "c3.color = \"green\"\r\n",
        "c3.drawCircle()"
      ],
      "execution_count": null,
      "outputs": []
    },
    {
      "cell_type": "code",
      "metadata": {
        "id": "L-m25iTmEbyk"
      },
      "source": [
        "# Create a new Rectangle class for creating a rectangle object\r\n",
        "import matplotlib.pyplot as plt\r\n",
        "%matplotlib inline\r\n",
        "\r\n",
        "class Rectangle(object):    \r\n",
        "    # Constructor\r\n",
        "    def __init__(self, width=2, height=3, color='r'):\r\n",
        "        self.height = height \r\n",
        "        self.width = width\r\n",
        "        self.color = color\r\n",
        "    \r\n",
        "    # Method\r\n",
        "    def drawRectangle(self):\r\n",
        "        plt.gca().add_patch(plt.Rectangle((0, 0), self.width, self.height ,fc=self.color))\r\n",
        "        plt.axis('scaled')\r\n",
        "        plt.show()\r\n",
        "\r\n",
        "SkinnyBlueRectangle = Rectangle(4,4,'blue')\r\n",
        "SkinnyBlueRectangle.height\r\n",
        "SkinnyBlueRectangle.width\r\n",
        "SkinnyBlueRectangle.color\r\n",
        "SkinnyBlueRectangle.drawRectangle()\r\n",
        "\r\n",
        "FatYellowRectangle = Rectangle(20, 25, 'yellow')\r\n",
        "FatYellowRectangle.height\r\n",
        "FatYellowRectangle.color\r\n",
        "FatYellowRectangle.drawRectangle()"
      ],
      "execution_count": null,
      "outputs": []
    },
    {
      "cell_type": "code",
      "metadata": {
        "id": "tXlKV_CLL0yx"
      },
      "source": [
        "import datetime as dt\r\n",
        "\r\n",
        "print(dt.date.today())\r\n",
        "print(dt.datetime.now())\r\n",
        "print(dt.date.weekday)\r\n",
        "d = dt.date(2021,1,1)\r\n",
        "print(d)\r\n",
        "t = dt.time(1,1,1)\r\n",
        "print(t)\r\n",
        "h = dt.datetime.now().hour\r\n",
        "m = dt.datetime.now().minute\r\n",
        "s = dt.datetime.now().second\r\n",
        "\r\n",
        "print(dt.date.today()-dt.date(2022,12,23))\r\n",
        "print(type(dt.date.today()-dt.date(2022,12,23)))\r\n",
        "\r\n",
        "stringFormat = dt.datetime.strftime(dt.datetime.today(), \"%A, %B %d, %Y || %a|| %b|| %c || %e\")\r\n",
        "print(stringFormat)"
      ],
      "execution_count": null,
      "outputs": []
    }
  ]
}